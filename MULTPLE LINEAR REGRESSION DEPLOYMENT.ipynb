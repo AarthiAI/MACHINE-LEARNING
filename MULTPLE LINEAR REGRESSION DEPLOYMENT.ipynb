{
 "cells": [
  {
   "cell_type": "code",
   "execution_count": 1,
   "id": "0b211906-1a3e-465f-a127-183f5b867ced",
   "metadata": {},
   "outputs": [],
   "source": [
    "#model have been saved in the pickle library \n",
    "import pickle"
   ]
  },
  {
   "cell_type": "code",
   "execution_count": 2,
   "id": "4f97be27-4340-4ce1-affd-5b9aef2e24ea",
   "metadata": {},
   "outputs": [
    {
     "name": "stderr",
     "output_type": "stream",
     "text": [
      "C:\\Anaconda3\\Lib\\site-packages\\sklearn\\base.py:493: UserWarning: X does not have valid feature names, but LinearRegression was fitted with feature names\n",
      "  warnings.warn(\n"
     ]
    }
   ],
   "source": [
    "#input has been given to the model\n",
    "loaded_model=pickle.load(open(\"finalised_model_multilinear.sav\",\"rb\"))\n",
    "result=loaded_model.predict([[12,23,34,45,56]])"
   ]
  },
  {
   "cell_type": "code",
   "execution_count": 5,
   "id": "5fc1329b-26d8-42b1-897d-937d99c247d0",
   "metadata": {},
   "outputs": [
    {
     "data": {
      "text/plain": [
       "array([[80320.19071672]])"
      ]
     },
     "execution_count": 5,
     "metadata": {},
     "output_type": "execute_result"
    }
   ],
   "source": [
    "result #o/p"
   ]
  },
  {
   "cell_type": "code",
   "execution_count": null,
   "id": "a930f9f8-59fb-491f-b010-986834a6fa9d",
   "metadata": {},
   "outputs": [],
   "source": []
  }
 ],
 "metadata": {
  "kernelspec": {
   "display_name": "Python [conda env:base] *",
   "language": "python",
   "name": "conda-base-py"
  },
  "language_info": {
   "codemirror_mode": {
    "name": "ipython",
    "version": 3
   },
   "file_extension": ".py",
   "mimetype": "text/x-python",
   "name": "python",
   "nbconvert_exporter": "python",
   "pygments_lexer": "ipython3",
   "version": "3.12.7"
  }
 },
 "nbformat": 4,
 "nbformat_minor": 5
}
